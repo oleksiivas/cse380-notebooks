{
 "cells": [
  {
   "cell_type": "code",
   "execution_count": 4,
   "metadata": {},
   "outputs": [],
   "source": [
    "def cfr2latex(cfr):\n",
    "    if len(cfr) < 2:\n",
    "        return str(cfr[0])\n",
    "    # I could use string formatting here, but that messes with '{'\n",
    "    return str(cfr[0]) + \" + \\\\frac{1}{\" + cfr2latex(cfr[1:]) + \"}\""
   ]
  },
  {
   "cell_type": "code",
   "execution_count": 6,
   "metadata": {},
   "outputs": [
    {
     "name": "stdout",
     "output_type": "stream",
     "text": [
      "1 + \\frac{1}{2 + \\frac{1}{2 + \\frac{1}{2 + \\frac{1}{2 + \\frac{1}{2 + \\frac{1}{2 + \\frac{1}{2 + \\frac{1}{2 + \\frac{1}{1 + \\frac{1}{2 + \\frac{1}{3 + \\frac{1}{4 + \\frac{1}{5}}}}}}}}}}}}}\n"
     ]
    }
   ],
   "source": [
    "rat_num_crf = [1, 2, 2, 2, 2, 2, 2, 2, 2, 1, 2, 3, 4, 5]\n",
    "# You need to print the result. Otherwise you'll have double slashes.\n",
    "print(crf2latex(rat_num_crf))"
   ]
  },
  {
   "cell_type": "markdown",
   "metadata": {},
   "source": [
    "$$\n",
    "1 + \\frac{1}{2 + \\frac{1}{2 + \\frac{1}{2 + \\frac{1}{2 + \\frac{1}{2 + \\frac{1}{2 + \\frac{1}{2 + \\frac{1}{2 + \\frac{1}{1 + \\frac{1}{2 + \\frac{1}{3 + \\frac{1}{4 + \\frac{1}{5}}}}}}}}}}}}}\n",
    "$$"
   ]
  }
 ],
 "metadata": {
  "kernelspec": {
   "display_name": "Python 3",
   "language": "python",
   "name": "python3"
  },
  "language_info": {
   "codemirror_mode": {
    "name": "ipython",
    "version": 3
   },
   "file_extension": ".py",
   "mimetype": "text/x-python",
   "name": "python",
   "nbconvert_exporter": "python",
   "pygments_lexer": "ipython3",
   "version": "3.9.0"
  }
 },
 "nbformat": 4,
 "nbformat_minor": 4
}
