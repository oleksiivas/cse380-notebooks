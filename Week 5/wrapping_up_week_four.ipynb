{
 "cells": [
  {
   "cell_type": "markdown",
   "metadata": {},
   "source": [
    "# Wrapping Up Week Four\n",
    "  At the end (of class meetings) of this fourth week, let's recap:\n",
    "## GCD\n",
    "  Revisiting this important concept one more time:\n",
    "### Important?\n",
    "   Important enough to be a library-import away:"
   ]
  },
  {
   "cell_type": "code",
   "execution_count": null,
   "metadata": {},
   "outputs": [],
   "source": [
    "from math import gcd\n",
    "\n",
    "print(gcd(89932875987987948500007, 5677777777777777777777))"
   ]
  },
  {
   "cell_type": "markdown",
   "metadata": {},
   "source": [
    "### Trace and Test"
   ]
  },
  {
   "cell_type": "code",
   "execution_count": null,
   "metadata": {},
   "outputs": [],
   "source": [
    "from math import floor, log10\n",
    "\n",
    "def trace_gcd(a, b):\n",
    "    r = -1\n",
    "    num_digits_in_a = str(floor(log10(a)) + 1)\n",
    "    num_digits_in_b = str(floor(log10(b)) + 1)\n",
    "    num_digits_in_r = str(floor(log10(a % b)) + 1)\n",
    "    format_specifier = '{0:' + num_digits_in_a + \\\n",
    "                       '} = {1:' + num_digits_in_b + \\\n",
    "                       '}({2}) + {3:' + num_digits_in_r + '}'\n",
    "    while r:\n",
    "        q = a // b\n",
    "        r = a % b\n",
    "        print(format_specifier.format(a, b, q, r))\n",
    "        a, b = b, r"
   ]
  },
  {
   "cell_type": "code",
   "execution_count": null,
   "metadata": {},
   "outputs": [],
   "source": [
    "trace_gcd(87,55)"
   ]
  },
  {
   "cell_type": "code",
   "execution_count": null,
   "metadata": {},
   "outputs": [],
   "source": [
    "trace_gcd(89, 56)"
   ]
  },
  {
   "cell_type": "code",
   "execution_count": null,
   "metadata": {},
   "outputs": [],
   "source": [
    "trace_gcd(56, 89)"
   ]
  },
  {
   "cell_type": "code",
   "execution_count": null,
   "metadata": {},
   "outputs": [],
   "source": [
    "from fractions import Fraction as frac\n",
    "\n",
    "def contfrac2frac(seq):\n",
    "    \"\"\"Convert the simple continued fraction in `seq`\n",
    "       into a fraction with numerator num and denominator den.\n",
    "    \"\"\"\n",
    "    num, den = 1, 0\n",
    "    for u in reversed(seq):\n",
    "        num, den = den + num * u, num\n",
    "    return frac(num, den)\n",
    "\n",
    "def frac2contfrac(f):\n",
    "    \"\"\"Build the simple continued fraction expansion of fraction f.\n",
    "    \"\"\"\n",
    "    seq = []\n",
    "    frac2contfrac_rec(f, seq)\n",
    "    return seq\n",
    "\n",
    "def frac2contfrac_rec(f, seq):\n",
    "    n = f.numerator\n",
    "    d = f.denominator\n",
    "    if d != 0:\n",
    "        seq.append(n // d)\n",
    "        if n % d != 0:\n",
    "            frac2contfrac_rec(frac(d, n % d), seq)\n",
    "\n",
    "def e_cont_frac(n):\n",
    "    \"\"\"Build `n` terms of the simple continued fraction expansion of e\n",
    "        `n` must be a positive integer\n",
    "    \"\"\"\n",
    "    seq = [2 * (i + 1) // 3 if i % 3 == 2 else 1 for i in range(n)]\n",
    "    seq[0] += 1\n",
    "    return seq\n",
    "\n",
    "def eval_frac(f):\n",
    "    \"\"\"Evaluate the fraction f as a float.\n",
    "    \"\"\"\n",
    "    return f.numerator / f.denominator"
   ]
  },
  {
   "cell_type": "code",
   "execution_count": null,
   "metadata": {},
   "outputs": [],
   "source": [
    "print(frac2contfrac(frac(89, 56)))"
   ]
  },
  {
   "cell_type": "code",
   "execution_count": null,
   "metadata": {},
   "outputs": [],
   "source": [
    "from math import sqrt\n",
    "\n",
    "phi = (sqrt(5) + 1) / 2\n",
    "print(phi)\n",
    "\n",
    "phi_as_frac = frac(phi).limit_denominator(10000000)\n",
    "\n",
    "cfr_phi_as_frac = frac2contfrac(phi_as_frac)\n",
    "print(cfr_phi_as_frac)\n",
    "print(all(map(lambda x: x == 1, cfr_phi_as_frac[:-1])))"
   ]
  },
  {
   "cell_type": "code",
   "execution_count": null,
   "metadata": {},
   "outputs": [],
   "source": [
    "trace_gcd(377, 233)"
   ]
  },
  {
   "cell_type": "code",
   "execution_count": null,
   "metadata": {},
   "outputs": [],
   "source": [
    "trace_gcd(899, 493)"
   ]
  },
  {
   "cell_type": "markdown",
   "metadata": {},
   "source": [
    "## Now, about that Stern-Brocot Tree Address!\n",
    "\n",
    "   5/2 is at address 110, equals 2.5000000"
   ]
  },
  {
   "cell_type": "code",
   "execution_count": null,
   "metadata": {},
   "outputs": [],
   "source": [
    "trace_gcd(5, 2)"
   ]
  },
  {
   "cell_type": "markdown",
   "metadata": {},
   "source": [
    "8/3 is at address 1101, equals 2.666666..."
   ]
  },
  {
   "cell_type": "code",
   "execution_count": null,
   "metadata": {},
   "outputs": [],
   "source": [
    "trace_gcd(8, 3)"
   ]
  },
  {
   "cell_type": "markdown",
   "metadata": {},
   "source": [
    "11/4 is at address 11011, equals 2.7500000..."
   ]
  },
  {
   "cell_type": "code",
   "execution_count": null,
   "metadata": {},
   "outputs": [],
   "source": [
    "trace_gcd(11, 4)"
   ]
  },
  {
   "cell_type": "markdown",
   "metadata": {},
   "source": [
    "19/7 is at address 110110, equals 2.7142857..."
   ]
  },
  {
   "cell_type": "code",
   "execution_count": null,
   "metadata": {},
   "outputs": [],
   "source": [
    "trace_gcd(19, 7)"
   ]
  },
  {
   "cell_type": "markdown",
   "metadata": {},
   "source": [
    "30/11 is at address 1101101, equals 2.7272727..."
   ]
  },
  {
   "cell_type": "code",
   "execution_count": null,
   "metadata": {},
   "outputs": [],
   "source": [
    "trace_gcd(30, 11)"
   ]
  },
  {
   "cell_type": "markdown",
   "metadata": {},
   "source": [
    "49/18 is at address 11011010, equals 2.7222222..."
   ]
  },
  {
   "cell_type": "code",
   "execution_count": null,
   "metadata": {},
   "outputs": [],
   "source": [
    "trace_gcd(49, 18)"
   ]
  },
  {
   "cell_type": "code",
   "execution_count": null,
   "metadata": {},
   "outputs": [],
   "source": [
    "print(frac2contfrac(frac(49, 18)))"
   ]
  },
  {
   "cell_type": "markdown",
   "metadata": {},
   "source": [
    "87/32 is at address 1101101000, equals 2.7187500..."
   ]
  },
  {
   "cell_type": "code",
   "execution_count": null,
   "metadata": {},
   "outputs": [],
   "source": [
    "trace_gcd(87, 32)"
   ]
  },
  {
   "cell_type": "markdown",
   "metadata": {},
   "source": [
    "106/39 is at address 11011010000, equals 2.7179487..."
   ]
  },
  {
   "cell_type": "code",
   "execution_count": null,
   "metadata": {},
   "outputs": [],
   "source": [
    "trace_gcd(106, 39)"
   ]
  },
  {
   "cell_type": "code",
   "execution_count": null,
   "metadata": {},
   "outputs": [],
   "source": [
    "print('{0:.50f}'.format(1038929163353808 / 382200680031313))"
   ]
  },
  {
   "cell_type": "code",
   "execution_count": null,
   "metadata": {},
   "outputs": [],
   "source": [
    "from mpmath import mp\n",
    "mp.dps = 50\n",
    "print(mp.fdiv(1038929163353808, 382200680031313))"
   ]
  },
  {
   "cell_type": "code",
   "execution_count": null,
   "metadata": {},
   "outputs": [],
   "source": [
    "from math import e\n",
    "e_as_frac = frac(e).limit_denominator(10000000000000000)\n",
    "print(e_as_frac, frac2contfrac(e_as_frac))\n",
    "print(e_cont_frac(20))"
   ]
  },
  {
   "cell_type": "code",
   "execution_count": null,
   "metadata": {},
   "outputs": [],
   "source": [
    "print(contfrac2frac([2,1,2,1,1,4,1,1,6,1,1,8,1,1,10,1,1,12,1,1,14,1,1,16,1,1,18,1,1,20,1,1,22,1,1,24]))"
   ]
  },
  {
   "cell_type": "code",
   "execution_count": null,
   "metadata": {},
   "outputs": [],
   "source": [
    "from mpmath import mp\n",
    "mp.dps = 50\n",
    "print(mp.fdiv(52061284670617417, 19152276311294112))"
   ]
  },
  {
   "cell_type": "markdown",
   "metadata": {},
   "source": [
    "## Answer Selected Questions\n",
    "### 1\n",
    "How can relations be encoded as sets of pairs?\n",
    "#### Answer\n",
    "Try it!"
   ]
  },
  {
   "cell_type": "code",
   "execution_count": null,
   "metadata": {},
   "outputs": [],
   "source": [
    "from pyprimesieve import primes\n",
    "# ftmpl = first ten million primes list\n",
    "ftmpl = list(primes(1, 179424674))\n",
    "print(len(ftmpl))"
   ]
  },
  {
   "cell_type": "code",
   "execution_count": null,
   "metadata": {},
   "outputs": [],
   "source": [
    "print(ftmpl[0])"
   ]
  },
  {
   "cell_type": "code",
   "execution_count": null,
   "metadata": {},
   "outputs": [],
   "source": [
    "def encode_set(nset):\n",
    "  return encode_set(nset[1:]) * ftmpl[nset[0]] if nset else 1"
   ]
  },
  {
   "cell_type": "code",
   "execution_count": null,
   "metadata": {},
   "outputs": [],
   "source": [
    "print(encode_set([1, 2, 3]))"
   ]
  },
  {
   "cell_type": "code",
   "execution_count": null,
   "metadata": {},
   "outputs": [],
   "source": [
    "R = [(1, 2), (2, 3), (1, 3)]\n",
    "print(R)\n",
    "pair_encodings = list(map(encode_set, R))\n",
    "print(pair_encodings)\n",
    "encoding_of_R = encode_set(pair_encodings)\n",
    "print(encoding_of_R)"
   ]
  },
  {
   "cell_type": "markdown",
   "metadata": {},
   "source": [
    "### 2\n",
    "Why is an ordered set which is reflexive, antisymmetric, and transitive called a partial order? If all the elements preceding a given element are less than in comparable value and a set can have no duplicates (meaning if x and y as elements of set S are equal by x = y, then they are duplicates), why is it called a partial order? It sounds to me more like a total order - a complete order. Incomplete is a synonym to partial, the opposite of complete.\n",
    "#### Answer\n",
    "What we have here is a category error.\n",
    "\n",
    "A Partial Order is a *relation*, not a set.\n",
    "\n",
    "A poster-child poset is the pair (P(S), $\\subseteq$). For example:\n",
    "\n",
    "Given S = {1, 2, 3, 4}, P(S) = Power Set of S = {$\\emptyset$, {1}, {2}, {3}, {4}, {1, 2}, {1, 3}, {1, 4}, {2, 3}, {2, 4}, {3, 4}, {1, 2, 3}, {1, 2, 4}, {1, 3, 4}, {2, 3, 4}, {1, 2, 3, 4}}.\n",
    "\n",
    "---\n",
    "\n",
    "Here is how to draw the Hasse diagram of this poset using dot:\n"
   ]
  },
  {
   "cell_type": "code",
   "execution_count": null,
   "metadata": {},
   "outputs": [],
   "source": [
    "from graphviz import Source\n",
    "Source('''\n",
    "graph {\n",
    "  node [shape=none]\n",
    "  1234 [label=\"{1, 2, 3, 4}\"]\n",
    "   123 [label=\"{1, 2, 3}\"]\n",
    "   124 [label=\"{1, 2, 4}\"]\n",
    "   134 [label=\"{1, 3, 4}\"]\n",
    "   234 [label=\"{2, 3, 4}\"]\n",
    "    12 [label=\"{1, 2}\"]\n",
    "    13 [label=\"{1, 3}\"]\n",
    "    14 [label=\"{1, 4}\"]\n",
    "    23 [label=\"{2, 3}\"]\n",
    "    24 [label=\"{2, 4}\"]\n",
    "    34 [label=\"{3, 4}\"]\n",
    "     1 [label=\"{1}\"]\n",
    "     2 [label=\"{2}\"]\n",
    "     3 [label=\"{3}\"]\n",
    "     4 [label=\"{4}\"]\n",
    "     0 [label=<&empty;>]\n",
    "  1234 -- {123, 124, 134, 234}\n",
    "   123 -- {12, 13, 23}\n",
    "   124 -- {12, 14, 24}\n",
    "   134 -- {13, 14, 34}\n",
    "   234 -- {23, 24, 34}\n",
    "    12 -- {1, 2}\n",
    "    13 -- {1, 3}\n",
    "    14 -- {1, 4}\n",
    "    23 -- {2, 3}\n",
    "    24 -- {2, 4}\n",
    "    34 -- {3, 4}\n",
    "     1 -- 0\n",
    "     2 -- 0\n",
    "     3 -- 0\n",
    "     4 -- 0\n",
    "  {rank=same 1234}\n",
    "  {rank=same 123 124 134 234}\n",
    "  {rank=same 12 13 14 23 24 34}\n",
    "  {rank=same 1 2 3 4}\n",
    "  {rank=same 0}\n",
    "}\n",
    "''')"
   ]
  },
  {
   "cell_type": "markdown",
   "metadata": {},
   "source": [
    "### 3\n",
    "From the reading we learn that a Gödel hash can uniquely identify the original object. Does this mean that most hashes are larger than their original objects?\n",
    "#### Answer\n",
    "It depends on the prime map and the elements being hashed.\n",
    "\n",
    "### 4\n",
    "As defined in the book, \"An equivalence relation is a binary relation that is reflexive, symmetric, and transitive.\" This being the case, if a relation is symmetric and transitive, would it not also **have** to be reflexive? Why or why not?\n",
    "#### Answer\n",
    "The is-sibling-of relation is symmetric and transitive, but not reflexive.\n",
    "\n",
    "### 5\n",
    "In the book an example is given of a relation $R_1 = \\{(1, 1)\\}$, which is characterized as both symmetric and antisymmetric. With the standard meaning of the word symmetry it's hard to envision how something could be both symmetric and antisymmetric. Are the only relations that possess both properties those in which x = y?\n",
    "#### Answer\n",
    "Yes. In fact, any subset of the identity relation possesses both.\n",
    "\n",
    "(Note: The empty relation vacuously does too.)\n",
    "\n",
    "### 6\n",
    "What, exactly, is the prime basis of a poset?\n",
    "\n",
    "According to the reading, the prime basis is a subset of the poset. Also, \"A poset has a prime basis if every (non-bottom) element has a unique decomposition as the least upper bound of a finite number of basis elements.\" Is this saying that each element in the poset has a unique decomposition, or each element in the prime basis has a unique decomposition?\n",
    "#### Answer\n",
    "A good example, related to the poster-child poset mentioned earlier, is given in V.B.d) *factorable power sets*: A partially ordered power set (P(S), ⊆) where the order is inclusion is easily factorable: its prime basis, $B_{P(S)}$, consists of the singleton sets over $S: \\{\\{s\\} : s \\in S\\}$.\n",
    "\n",
    "### 7\n",
    "When considering binary relations, does a partial order always imply divisibility? If so, is this the reason Gödel hashes are considered partial order-preserving?\n",
    "#### Answer\n",
    "\"Divides\" (e.g. 3 | 12) is a partial order. It can profitably be thought of when pondering the abstract nature of these objects.\n",
    "\n",
    "## For Your Consideration, Profit, and Learning\n",
    "There's a feature column of the American Mathematical Society called *Monthly essays on mathematical topics*. Here's one:\n",
    "\n",
    "https://www.ams.org/publicoutreach/feature-column/fcarc-stern-brocot\n",
    "\n",
    "The above link to the original AMS site is broken sometimes, or the images are broken, so here's a PDF version someone captured:\n",
    "\n",
    "https://gaurish4math.files.wordpress.com/2016/10/feature-column-from-the-ams.pdf\n",
    "\n"
   ]
  }
 ],
 "metadata": {
  "kernelspec": {
   "display_name": "Python 3",
   "language": "python",
   "name": "python3"
  },
  "language_info": {
   "codemirror_mode": {
    "name": "ipython",
    "version": 3
   },
   "file_extension": ".py",
   "mimetype": "text/x-python",
   "name": "python",
   "nbconvert_exporter": "python",
   "pygments_lexer": "ipython3",
   "version": "3.9.0"
  }
 },
 "nbformat": 4,
 "nbformat_minor": 4
}
