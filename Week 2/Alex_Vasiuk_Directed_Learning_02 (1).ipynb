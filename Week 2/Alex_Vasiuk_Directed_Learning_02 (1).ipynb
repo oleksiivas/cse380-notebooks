{
 "cells": [
  {
   "cell_type": "markdown",
   "metadata": {},
   "source": [
    "# Alex Vasiuk Class Directed Learning 02"
   ]
  },
  {
   "cell_type": "markdown",
   "metadata": {},
   "source": [
    "On a specific range x has a common value\n",
    "For example: for y from 22 to 28 x = 8, because m,n = (1,7) - (7,1)\n",
    "\n",
    "<p><span style=\"color:purple\">f(1,1) = 1</span>   <span style=\"color:blue\">f(2,1) =  3</span>   <span style=\"color:green\">f(3,1) =  6</span>   <span style=\"color:brown\">f(4,1) = 10</span>   <span style=\"color:orange\">f(5,1) = 15</span></p>\n",
    "<p><span style=\"color:blue\">f(1,2) =  2</span>   <span style=\"color:green\">f(2,2) =  5</span>   <span style=\"color:brown\">f(3,2) =  9</span>   <span style=\"color:orange\">f(4,2) = 14</span>   <span style=\"color:red\">f(5,2) = 20</span></p>\n",
    "<p><span style=\"color:green\">f(1,3) =  4</span>   <span style=\"color:brown\">f(2,3) =  8</span>   <span style=\"color:orange\">f(3,3) = 13</span>   <span style=\"color:red\">f(4,3) = 19</span>   <span style=\"color:black\">f(5,3) = 26</span></p>\n",
    "<p><span style=\"color:brown\">f(1,4) =  7</span>   <span style=\"color:orange\">f(2,4) = 12</span>   <span style=\"color:red\">f(3,4) = 18</span>   <span style=\"color:black\">f(4,4) = 25</span></p>\n",
    "<p><span style=\"color:orange\">f(1,5) = 11</span>   <span style=\"color:red\">f(2,5) = 17</span>   <span style=\"color:black\">f(3,5) = 24</span></p>\n",
    "<p><span style=\"color:red\">f(1,6) = 16</span>   <span style=\"color:black\">f(2,6) = 23</span></p>\n",
    "<p><span style=\"color:black\">f(1,7) = 22</span></p>"
   ]
  },
  {
   "cell_type": "code",
   "execution_count": 1,
   "metadata": {},
   "outputs": [
    {
     "name": "stdout",
     "output_type": "stream",
     "text": [
      "14\n"
     ]
    }
   ],
   "source": [
    "def f(m, n):\n",
    "    x = m + n\n",
    "    return ((x-2)*(x-1)//2) + m\n",
    "\n",
    "print(f(4, 2))"
   ]
  },
  {
   "cell_type": "code",
   "execution_count": 2,
   "metadata": {},
   "outputs": [
    {
     "name": "stdout",
     "output_type": "stream",
     "text": [
      "(90, 1)\n"
     ]
    }
   ],
   "source": [
    "def f_inverse(y):\n",
    "    x = ((y-2)*(y-1)//2) + (y - 1)\n",
    "    m = x - 1\n",
    "    n = x - m\n",
    "    return m, n\n",
    "\n",
    "print(f_inverse(14))"
   ]
  }
 ],
 "metadata": {
  "kernelspec": {
   "display_name": "Python 3",
   "language": "python",
   "name": "python3"
  },
  "language_info": {
   "codemirror_mode": {
    "name": "ipython",
    "version": 3
   },
   "file_extension": ".py",
   "mimetype": "text/x-python",
   "name": "python",
   "nbconvert_exporter": "python",
   "pygments_lexer": "ipython3",
   "version": "3.6.10"
  }
 },
 "nbformat": 4,
 "nbformat_minor": 4
}
