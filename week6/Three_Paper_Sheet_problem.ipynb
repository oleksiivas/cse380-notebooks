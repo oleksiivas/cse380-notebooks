{
  "nbformat": 4,
  "nbformat_minor": 0,
  "metadata": {
    "colab": {
      "name": "Three Paper Sheet problem.ipynb",
      "provenance": [],
      "collapsed_sections": []
    },
    "kernelspec": {
      "name": "python3",
      "display_name": "Python 3"
    }
  },
  "cells": [
    {
      "cell_type": "markdown",
      "metadata": {
        "id": "Lnc8rTMNPgB5"
      },
      "source": [
        "There are three paper sheets. Count probabilities to get different options if 1 paper has writing on both sides, 2 paper has writing on the front side only, 3 paper is blank."
      ]
    },
    {
      "cell_type": "markdown",
      "metadata": {
        "id": "muYWb7HwNkwa"
      },
      "source": [
        "Thre paper sheets\n",
        "1 (W1, W2) || 2 (W3, B0) || 3 (B1, B2)\n",
        "\n",
        "Let E = chose BB\n",
        "\n",
        "Let F = chose BW\n",
        "\n",
        "Let G = chose WW\n",
        "\n",
        "Let S = see B\n",
        "\n",
        "Want to know P(E|S)\n",
        "\n",
        "P(E) = P(F) = P(G) = 1/3\n",
        "\n",
        "P(S|E) = 1\n",
        "\n",
        "P(S|F) = 1/2\n",
        "\n",
        "P(S|G) = 0\n",
        "\n",
        "So by BTG: \n",
        "$$\n",
        "P(E|S) = \\frac{P(S|E)P(E)}{P(S|E)P(E) + P(S|F)P(F) + P(S|G)P(G)}\n",
        "$$\n",
        "\n",
        "$$\n",
        "P(E|S) = \\frac{1(1/3)}{1(1/3) + (1/2)(1/3) + 0(1/3)}\n",
        "$$\n",
        "\n",
        "$$\n",
        " = \\frac{1}{1 + 1/2} = \\frac{1}{3/2} = \\frac{2}{3}\n",
        "$$"
      ]
    }
  ]
}