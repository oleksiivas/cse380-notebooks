{
  "nbformat": 4,
  "nbformat_minor": 0,
  "metadata": {
    "colab": {
      "name": "Three Paper Sheet problem.ipynb",
      "provenance": [],
      "collapsed_sections": []
    },
    "kernelspec": {
      "name": "python3",
      "display_name": "Python 3"
    }
  },
  "cells": [
    {
      "cell_type": "markdown",
      "metadata": {
        "id": "Lnc8rTMNPgB5"
      },
      "source": [
        "There are three paper sheets. Count probabilities to get different options if 1 paper has writing on both sides, 2 paper has writing on the front side only, 3 paper is blank."
      ]
    },
    {
      "cell_type": "markdown",
      "metadata": {
        "id": "muYWb7HwNkwa"
      },
      "source": [
        "Thre paper sheets\r\n",
        "1 (W1, W2) || 2 (W3, B0) || 3 (B1, B2)\r\n",
        "\r\n",
        "Let E = chose BB\r\n",
        "Let F = chose BW\r\n",
        "Let G = chose WW\r\n",
        "Let S = see B\r\n",
        "Want to know P(E|S)\r\n",
        "P(E) = P(F) = P(G) = 1/3\r\n",
        "P(S|E) = 1\r\n",
        "P(S|F) = 1/2\r\n",
        "P(S|G) = 0\r\n",
        "So by BTG: \r\n",
        "$$\r\n",
        "P(E|S) = \\frac{P(S|E)P(E)}{P(S|E)P(E) + P(S|F)P(F) + P(S|G)P(G)}\r\n",
        "$$\r\n",
        "\r\n",
        "$$\r\n",
        "P(E|S) = \\frac{1(1/3)}{1(1/3) + (1/2)(1/3) + 0(1/3)}\r\n",
        "$$\r\n",
        "\r\n",
        "$$\r\n",
        " = \\frac{1}{1 + 1/2} = \\frac{1}{3/2} = \\frac{2}{3}\r\n",
        "$$"
      ]
    }
  ]
}