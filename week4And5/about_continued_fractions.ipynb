{
 "cells": [
  {
   "cell_type": "markdown",
   "metadata": {
    "run_control": {
     "frozen": false,
     "read_only": false
    }
   },
   "source": [
    "# About Continued Fractions\n",
    "\n",
    "## An Ancient Fascination\n",
    "\n",
    "https://en.wikipedia.org/wiki/Continued_fraction\n",
    "\n",
    "## Study and Understand\n",
    "The sample code below builds on the code you studied yesterday in your Divide Pair Conquer exercise. The idea is to compute the Continued Fraction Representation (CFR) of both rational and irrational numbers.\n",
    "\n",
    "Adapted from: https://stackoverflow.com/questions/36077810/continued-fractions-python"
   ]
  },
  {
   "cell_type": "code",
   "execution_count": null,
   "metadata": {},
   "outputs": [],
   "source": [
    "from fractions import Fraction as frac\n",
    "\n",
    "def contfrac2frac(seq):\n",
    "    \"\"\"Convert the simple continued fraction in `seq`\n",
    "       into a fraction with numerator num and denominator den.\n",
    "    \"\"\"\n",
    "    num, den = 1, 0\n",
    "    for u in reversed(seq):\n",
    "        num, den = den + num * u, num\n",
    "    return frac(num, den)\n",
    "\n",
    "def frac2contfrac(f):\n",
    "    \"\"\"Build the simple continued fraction expansion of fraction f.\n",
    "    \"\"\"\n",
    "    seq = []\n",
    "    frac2contfrac_rec(f, seq)\n",
    "    return seq\n",
    "\n",
    "def frac2contfrac_rec(f, seq):\n",
    "    n = f.numerator\n",
    "    d = f.denominator\n",
    "    if d != 0:\n",
    "        seq.append(n // d)\n",
    "        if n % d != 0:\n",
    "            frac2contfrac_rec(frac(d, n % d), seq)\n",
    "\n",
    "def e_cont_frac(n):\n",
    "    \"\"\"Build `n` terms of the simple continued fraction expansion of e\n",
    "        `n` must be a positive integer\n",
    "    \"\"\"\n",
    "    seq = [2 * (i + 1) // 3 if i % 3 == 2 else 1 for i in range(n)]\n",
    "    seq[0] += 1\n",
    "    return seq\n",
    "\n",
    "def eval_frac(f):\n",
    "    \"\"\"Evaluate the fraction f as a float.\n",
    "    \"\"\"\n",
    "    return f.numerator / f.denominator\n",
    "\n",
    "n = 20\n",
    "seq = e_cont_frac(n)\n",
    "e_as_frac = contfrac2frac(seq)\n",
    "\n",
    "print('Terms =', n)\n",
    "print('CFR:', seq)\n",
    "print('Fraction:', e_as_frac)\n",
    "print('Float {0:0.15f}'.format(eval_frac(e_as_frac)))\n",
    "print(frac2contfrac(e_as_frac))"
   ]
  },
  {
   "cell_type": "markdown",
   "metadata": {},
   "source": [
    "## Calculate and Compare\n",
    "\n",
    "Find and compare the CFRs of the irrational square root of 2 and the rational number 1393/985. Compare both of those CFRs with the CFR of the golden ratio, phi, which is the value that is one-half of the quantity one more than the square root of five."
   ]
  }
 ],
 "metadata": {
  "kernelspec": {
   "display_name": "Python 3",
   "language": "python",
   "name": "python3"
  },
  "language_info": {
   "codemirror_mode": {
    "name": "ipython",
    "version": 3
   },
   "file_extension": ".py",
   "mimetype": "text/x-python",
   "name": "python",
   "nbconvert_exporter": "python",
   "pygments_lexer": "ipython3",
   "version": "3.9.0"
  },
  "toc": {
   "colors": {
    "hover_highlight": "#DAA520",
    "running_highlight": "#FF0000",
    "selected_highlight": "#FFD700"
   },
   "moveMenuLeft": true,
   "nav_menu": {
    "height": "121px",
    "width": "252px"
   },
   "navigate_menu": true,
   "number_sections": true,
   "sideBar": true,
   "threshold": 4,
   "toc_cell": false,
   "toc_section_display": "block",
   "toc_window_display": false,
   "widenNotebook": false
  },
  "widgets": {
   "state": {
    "430c92ee02b34ec1912bf03c8de1e6dc": {
     "views": [
      {
       "cell_index": 20
      }
     ]
    }
   },
   "version": "1.2.0"
  }
 },
 "nbformat": 4,
 "nbformat_minor": 2
}
